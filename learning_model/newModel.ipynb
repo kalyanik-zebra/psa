{
 "cells": [
  {
   "cell_type": "code",
   "execution_count": null,
   "id": "58c9f70f",
   "metadata": {},
   "outputs": [],
   "source": [
    "import pandas as pd"
   ]
  },
  {
   "cell_type": "code",
   "execution_count": null,
   "id": "04e4fed0",
   "metadata": {},
   "outputs": [],
   "source": [
    "data = pd.read_csv('../data/updated_dataset_cor.csv')"
   ]
  }
 ],
 "metadata": {
  "kernelspec": {
   "display_name": "Python 3",
   "language": "python",
   "name": "python3"
  },
  "language_info": {
   "name": "python",
   "version": "3.13.3"
  }
 },
 "nbformat": 4,
 "nbformat_minor": 5
}
